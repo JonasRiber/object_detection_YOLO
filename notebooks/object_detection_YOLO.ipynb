{
  "nbformat": 4,
  "nbformat_minor": 0,
  "metadata": {
    "colab": {
      "provenance": [],
      "authorship_tag": "ABX9TyPBeK3j6168JKTmhL1p7uwb",
      "include_colab_link": true
    },
    "kernelspec": {
      "name": "python3",
      "display_name": "Python 3"
    },
    "language_info": {
      "name": "python"
    }
  },
  "cells": [
    {
      "cell_type": "markdown",
      "metadata": {
        "id": "view-in-github",
        "colab_type": "text"
      },
      "source": [
        "<a href=\"https://colab.research.google.com/github/JonasRiber/object_detection_YOLO/blob/main/notebooks/object_detection_YOLO.ipynb\" target=\"_parent\"><img src=\"https://colab.research.google.com/assets/colab-badge.svg\" alt=\"Open In Colab\"/></a>"
      ]
    },
    {
      "cell_type": "markdown",
      "source": [
        "## Object detection using YOLO\n",
        "\n",
        "Goal: detect multiple objects in an image\n",
        "\n",
        "Data: subset of COCO"
      ],
      "metadata": {
        "id": "Gu7SAUTP38h0"
      }
    },
    {
      "cell_type": "markdown",
      "source": [
        "#### Data Handling"
      ],
      "metadata": {
        "id": "EIpCGR0q4Vps"
      }
    },
    {
      "cell_type": "code",
      "execution_count": null,
      "metadata": {
        "id": "KRuVXC9532dQ"
      },
      "outputs": [],
      "source": []
    }
  ]
}